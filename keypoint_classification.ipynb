{
  "cells": [
    {
      "cell_type": "code",
      "execution_count": null,
      "metadata": {},
      "outputs": [],
      "source": []
    },
    {
      "cell_type": "code",
      "execution_count": 25,
      "metadata": {
        "id": "igMyGnjE9hEp"
      },
      "outputs": [],
      "source": [
        "import csv\n",
        "\n",
        "import numpy as np\n",
        "import tensorflow as tf\n",
        "from sklearn.model_selection import train_test_split\n",
        "\n",
        "RANDOM_SEED = 42"
      ]
    },
    {
      "cell_type": "markdown",
      "metadata": {
        "id": "t2HDvhIu9hEr"
      },
      "source": [
        "# Specify each path"
      ]
    },
    {
      "cell_type": "code",
      "execution_count": 26,
      "metadata": {
        "id": "9NvZP2Zn9hEy"
      },
      "outputs": [],
      "source": [
        "dataset = 'model/keypoint.csv'\n",
        "model_save_path = 'model/keypoint_classifier.hdf5'\n",
        "tflite_save_path = 'model/keypoint_classifier.tflite'"
      ]
    },
    {
      "cell_type": "markdown",
      "metadata": {
        "id": "s5oMH7x19hEz"
      },
      "source": [
        "# Set number of classes"
      ]
    },
    {
      "cell_type": "code",
      "execution_count": 27,
      "metadata": {
        "id": "du4kodXL9hEz"
      },
      "outputs": [],
      "source": [
        "NUM_CLASSES = 6"
      ]
    },
    {
      "cell_type": "markdown",
      "metadata": {
        "id": "XjnL0uso9hEz"
      },
      "source": [
        "# Dataset reading"
      ]
    },
    {
      "cell_type": "code",
      "execution_count": 28,
      "metadata": {
        "id": "QT5ZqtEz9hE0"
      },
      "outputs": [],
      "source": [
        "X_dataset = np.loadtxt(dataset, delimiter=',', dtype='float32', usecols=list(range(1, (21 * 2) + 1)))"
      ]
    },
    {
      "cell_type": "code",
      "execution_count": null,
      "metadata": {
        "id": "QmoKFsp49hE0"
      },
      "outputs": [],
      "source": [
        "y_dataset = np.loadtxt(dataset, delimiter=',', dtype='int32', usecols=(0))"
      ]
    },
    {
      "cell_type": "code",
      "execution_count": null,
      "metadata": {
        "id": "xQU7JTZ_9hE0"
      },
      "outputs": [],
      "source": [
        "X_train, X_test, y_train, y_test = train_test_split(X_dataset, y_dataset, train_size=0.75, random_state=RANDOM_SEED)"
      ]
    },
    {
      "cell_type": "markdown",
      "metadata": {
        "id": "mxK_lETT9hE0"
      },
      "source": [
        "# Model building"
      ]
    },
    {
      "cell_type": "code",
      "execution_count": null,
      "metadata": {
        "id": "vHBmUf1t9hE1"
      },
      "outputs": [],
      "source": [
        "model = tf.keras.models.Sequential([\n",
        "    tf.keras.layers.Input((21 * 2, )),\n",
        "    tf.keras.layers.Dropout(0.2),\n",
        "    tf.keras.layers.Dense(20, activation='relu'),\n",
        "    tf.keras.layers.Dropout(0.4),\n",
        "    tf.keras.layers.Dense(10, activation='relu'),\n",
        "    tf.keras.layers.Dense(NUM_CLASSES, activation='softmax')\n",
        "])"
      ]
    },
    {
      "cell_type": "code",
      "execution_count": null,
      "metadata": {
        "colab": {
          "base_uri": "https://localhost:8080/"
        },
        "id": "ypqky9tc9hE1",
        "outputId": "5db082bb-30e3-4110-bf63-a1ee777ecd46"
      },
      "outputs": [
        {
          "name": "stdout",
          "output_type": "stream",
          "text": [
            "Model: \"sequential\"\n",
            "_________________________________________________________________\n",
            " Layer (type)                Output Shape              Param #   \n",
            "=================================================================\n",
            " dropout (Dropout)           (None, 42)                0         \n",
            "                                                                 \n",
            " dense (Dense)               (None, 20)                860       \n",
            "                                                                 \n",
            " dropout_1 (Dropout)         (None, 20)                0         \n",
            "                                                                 \n",
            " dense_1 (Dense)             (None, 10)                210       \n",
            "                                                                 \n",
            " dense_2 (Dense)             (None, 5)                 55        \n",
            "                                                                 \n",
            "=================================================================\n",
            "Total params: 1,125\n",
            "Trainable params: 1,125\n",
            "Non-trainable params: 0\n",
            "_________________________________________________________________\n"
          ]
        }
      ],
      "source": [
        "model.summary()  # tf.keras.utils.plot_model(model, show_shapes=True)"
      ]
    },
    {
      "cell_type": "code",
      "execution_count": null,
      "metadata": {
        "id": "MbMjOflQ9hE1"
      },
      "outputs": [],
      "source": [
        "# Model checkpoint callback\n",
        "cp_callback = tf.keras.callbacks.ModelCheckpoint(\n",
        "    model_save_path, verbose=1, save_weights_only=False)\n",
        "# Callback for early stopping\n",
        "es_callback = tf.keras.callbacks.EarlyStopping(patience=20, verbose=1)"
      ]
    },
    {
      "cell_type": "code",
      "execution_count": null,
      "metadata": {
        "id": "c3Dac0M_9hE2"
      },
      "outputs": [],
      "source": [
        "# Model compilation\n",
        "model.compile(\n",
        "    optimizer='adam',\n",
        "    loss='sparse_categorical_crossentropy',\n",
        "    metrics=['accuracy']\n",
        ")"
      ]
    },
    {
      "cell_type": "markdown",
      "metadata": {
        "id": "7XI0j1Iu9hE2"
      },
      "source": [
        "# Model training"
      ]
    },
    {
      "cell_type": "code",
      "execution_count": null,
      "metadata": {
        "colab": {
          "base_uri": "https://localhost:8080/"
        },
        "id": "WirBl-JE9hE3",
        "outputId": "71b30ca2-8294-4d9d-8aa2-800d90d399de",
        "scrolled": true
      },
      "outputs": [
        {
          "name": "stdout",
          "output_type": "stream",
          "text": [
            "Epoch 1/1000\n",
            "26/31 [========================>.....] - ETA: 0s - loss: 1.6422 - accuracy: 0.2458\n",
            "Epoch 1: saving model to model\\keypoint_classifier.hdf5\n",
            "31/31 [==============================] - 5s 52ms/step - loss: 1.6238 - accuracy: 0.2494 - val_loss: 1.5022 - val_accuracy: 0.2589\n",
            "Epoch 2/1000\n",
            "30/31 [============================>.] - ETA: 0s - loss: 1.4708 - accuracy: 0.3047\n",
            "Epoch 2: saving model to model\\keypoint_classifier.hdf5\n",
            "31/31 [==============================] - 1s 22ms/step - loss: 1.4703 - accuracy: 0.3058 - val_loss: 1.3817 - val_accuracy: 0.3941\n",
            "Epoch 3/1000\n",
            "28/31 [==========================>...] - ETA: 0s - loss: 1.3960 - accuracy: 0.3730\n",
            "Epoch 3: saving model to model\\keypoint_classifier.hdf5\n",
            "31/31 [==============================] - 1s 19ms/step - loss: 1.3972 - accuracy: 0.3699 - val_loss: 1.2915 - val_accuracy: 0.5361\n",
            "Epoch 4/1000\n",
            "29/31 [===========================>..] - ETA: 0s - loss: 1.3286 - accuracy: 0.4095\n",
            "Epoch 4: saving model to model\\keypoint_classifier.hdf5\n",
            "31/31 [==============================] - 0s 13ms/step - loss: 1.3289 - accuracy: 0.4068 - val_loss: 1.2133 - val_accuracy: 0.5778\n",
            "Epoch 5/1000\n",
            "27/31 [=========================>....] - ETA: 0s - loss: 1.2834 - accuracy: 0.4268\n",
            "Epoch 5: saving model to model\\keypoint_classifier.hdf5\n",
            "31/31 [==============================] - 0s 14ms/step - loss: 1.2832 - accuracy: 0.4271 - val_loss: 1.1462 - val_accuracy: 0.6211\n",
            "Epoch 6/1000\n",
            "24/31 [======================>.......] - ETA: 0s - loss: 1.2358 - accuracy: 0.4688\n",
            "Epoch 6: saving model to model\\keypoint_classifier.hdf5\n",
            "31/31 [==============================] - 0s 10ms/step - loss: 1.2296 - accuracy: 0.4722 - val_loss: 1.0793 - val_accuracy: 0.6841\n",
            "Epoch 7/1000\n",
            "26/31 [========================>.....] - ETA: 0s - loss: 1.1882 - accuracy: 0.4901\n",
            "Epoch 7: saving model to model\\keypoint_classifier.hdf5\n",
            "31/31 [==============================] - 0s 14ms/step - loss: 1.1818 - accuracy: 0.4914 - val_loss: 1.0109 - val_accuracy: 0.7024\n",
            "Epoch 8/1000\n",
            "26/31 [========================>.....] - ETA: 0s - loss: 1.1532 - accuracy: 0.5090\n",
            "Epoch 8: saving model to model\\keypoint_classifier.hdf5\n",
            "31/31 [==============================] - 0s 14ms/step - loss: 1.1521 - accuracy: 0.5030 - val_loss: 0.9531 - val_accuracy: 0.7153\n",
            "Epoch 9/1000\n",
            "31/31 [==============================] - ETA: 0s - loss: 1.0918 - accuracy: 0.5289\n",
            "Epoch 9: saving model to model\\keypoint_classifier.hdf5\n",
            "31/31 [==============================] - 1s 18ms/step - loss: 1.0918 - accuracy: 0.5289 - val_loss: 0.8945 - val_accuracy: 0.7267\n",
            "Epoch 10/1000\n",
            "27/31 [=========================>....] - ETA: 0s - loss: 1.0575 - accuracy: 0.5472\n",
            "Epoch 10: saving model to model\\keypoint_classifier.hdf5\n",
            "31/31 [==============================] - 0s 14ms/step - loss: 1.0542 - accuracy: 0.5468 - val_loss: 0.8405 - val_accuracy: 0.7365\n",
            "Epoch 11/1000\n",
            "25/31 [=======================>......] - ETA: 0s - loss: 1.0151 - accuracy: 0.5566\n",
            "Epoch 11: saving model to model\\keypoint_classifier.hdf5\n",
            "31/31 [==============================] - 0s 13ms/step - loss: 1.0131 - accuracy: 0.5623 - val_loss: 0.7845 - val_accuracy: 0.7479\n",
            "Epoch 12/1000\n",
            "29/31 [===========================>..] - ETA: 0s - loss: 0.9867 - accuracy: 0.5700\n",
            "Epoch 12: saving model to model\\keypoint_classifier.hdf5\n",
            "31/31 [==============================] - 0s 15ms/step - loss: 0.9833 - accuracy: 0.5729 - val_loss: 0.7408 - val_accuracy: 0.7593\n",
            "Epoch 13/1000\n",
            "25/31 [=======================>......] - ETA: 0s - loss: 0.9497 - accuracy: 0.5897\n",
            "Epoch 13: saving model to model\\keypoint_classifier.hdf5\n",
            "31/31 [==============================] - 0s 13ms/step - loss: 0.9487 - accuracy: 0.5919 - val_loss: 0.7060 - val_accuracy: 0.7965\n",
            "Epoch 14/1000\n",
            "26/31 [========================>.....] - ETA: 0s - loss: 0.9580 - accuracy: 0.5898\n",
            "Epoch 14: saving model to model\\keypoint_classifier.hdf5\n",
            "31/31 [==============================] - 0s 14ms/step - loss: 0.9533 - accuracy: 0.5942 - val_loss: 0.6817 - val_accuracy: 0.8079\n",
            "Epoch 15/1000\n",
            "25/31 [=======================>......] - ETA: 0s - loss: 0.9127 - accuracy: 0.6034\n",
            "Epoch 15: saving model to model\\keypoint_classifier.hdf5\n",
            "31/31 [==============================] - 0s 15ms/step - loss: 0.9192 - accuracy: 0.5992 - val_loss: 0.6550 - val_accuracy: 0.8261\n",
            "Epoch 16/1000\n",
            "30/31 [============================>.] - ETA: 0s - loss: 0.8971 - accuracy: 0.6135\n",
            "Epoch 16: saving model to model\\keypoint_classifier.hdf5\n",
            "31/31 [==============================] - 1s 17ms/step - loss: 0.8986 - accuracy: 0.6139 - val_loss: 0.6295 - val_accuracy: 0.8102\n",
            "Epoch 17/1000\n",
            "27/31 [=========================>....] - ETA: 0s - loss: 0.8916 - accuracy: 0.6276\n",
            "Epoch 17: saving model to model\\keypoint_classifier.hdf5\n",
            "31/31 [==============================] - 1s 17ms/step - loss: 0.8816 - accuracy: 0.6319 - val_loss: 0.6040 - val_accuracy: 0.8284\n",
            "Epoch 18/1000\n",
            "28/31 [==========================>...] - ETA: 0s - loss: 0.8797 - accuracy: 0.6242\n",
            "Epoch 18: saving model to model\\keypoint_classifier.hdf5\n",
            "31/31 [==============================] - 1s 17ms/step - loss: 0.8763 - accuracy: 0.6256 - val_loss: 0.5851 - val_accuracy: 0.8398\n",
            "Epoch 19/1000\n",
            "25/31 [=======================>......] - ETA: 0s - loss: 0.8535 - accuracy: 0.6366\n",
            "Epoch 19: saving model to model\\keypoint_classifier.hdf5\n",
            "31/31 [==============================] - 1s 20ms/step - loss: 0.8560 - accuracy: 0.6382 - val_loss: 0.5686 - val_accuracy: 0.8565\n",
            "Epoch 20/1000\n",
            "29/31 [===========================>..] - ETA: 0s - loss: 0.8499 - accuracy: 0.6498\n",
            "Epoch 20: saving model to model\\keypoint_classifier.hdf5\n",
            "31/31 [==============================] - 1s 26ms/step - loss: 0.8525 - accuracy: 0.6481 - val_loss: 0.5562 - val_accuracy: 0.8633\n",
            "Epoch 21/1000\n",
            "30/31 [============================>.] - ETA: 0s - loss: 0.8153 - accuracy: 0.6612\n",
            "Epoch 21: saving model to model\\keypoint_classifier.hdf5\n",
            "31/31 [==============================] - 1s 20ms/step - loss: 0.8160 - accuracy: 0.6595 - val_loss: 0.5360 - val_accuracy: 0.8618\n",
            "Epoch 22/1000\n",
            "29/31 [===========================>..] - ETA: 0s - loss: 0.8255 - accuracy: 0.6611\n",
            "Epoch 22: saving model to model\\keypoint_classifier.hdf5\n",
            "31/31 [==============================] - 1s 17ms/step - loss: 0.8207 - accuracy: 0.6628 - val_loss: 0.5235 - val_accuracy: 0.8709\n",
            "Epoch 23/1000\n",
            "26/31 [========================>.....] - ETA: 0s - loss: 0.8069 - accuracy: 0.6734\n",
            "Epoch 23: saving model to model\\keypoint_classifier.hdf5\n",
            "31/31 [==============================] - 1s 17ms/step - loss: 0.8119 - accuracy: 0.6722 - val_loss: 0.5152 - val_accuracy: 0.8884\n",
            "Epoch 24/1000\n",
            "31/31 [==============================] - ETA: 0s - loss: 0.7877 - accuracy: 0.6747\n",
            "Epoch 24: saving model to model\\keypoint_classifier.hdf5\n",
            "31/31 [==============================] - 1s 17ms/step - loss: 0.7877 - accuracy: 0.6747 - val_loss: 0.5012 - val_accuracy: 0.8717\n",
            "Epoch 25/1000\n",
            "28/31 [==========================>...] - ETA: 0s - loss: 0.7808 - accuracy: 0.6861\n",
            "Epoch 25: saving model to model\\keypoint_classifier.hdf5\n",
            "31/31 [==============================] - 1s 17ms/step - loss: 0.7758 - accuracy: 0.6891 - val_loss: 0.4847 - val_accuracy: 0.8664\n",
            "Epoch 26/1000\n",
            "29/31 [===========================>..] - ETA: 0s - loss: 0.8022 - accuracy: 0.6719\n",
            "Epoch 26: saving model to model\\keypoint_classifier.hdf5\n",
            "31/31 [==============================] - 1s 17ms/step - loss: 0.7954 - accuracy: 0.6737 - val_loss: 0.4791 - val_accuracy: 0.8755\n",
            "Epoch 27/1000\n",
            "27/31 [=========================>....] - ETA: 0s - loss: 0.7810 - accuracy: 0.6756\n",
            "Epoch 27: saving model to model\\keypoint_classifier.hdf5\n",
            "31/31 [==============================] - 1s 18ms/step - loss: 0.7729 - accuracy: 0.6818 - val_loss: 0.4730 - val_accuracy: 0.8891\n",
            "Epoch 28/1000\n",
            "31/31 [==============================] - ETA: 0s - loss: 0.7711 - accuracy: 0.6927\n",
            "Epoch 28: saving model to model\\keypoint_classifier.hdf5\n",
            "31/31 [==============================] - 1s 20ms/step - loss: 0.7711 - accuracy: 0.6927 - val_loss: 0.4655 - val_accuracy: 0.9043\n",
            "Epoch 29/1000\n",
            "31/31 [==============================] - ETA: 0s - loss: 0.7676 - accuracy: 0.6868\n",
            "Epoch 29: saving model to model\\keypoint_classifier.hdf5\n",
            "31/31 [==============================] - 1s 16ms/step - loss: 0.7676 - accuracy: 0.6868 - val_loss: 0.4569 - val_accuracy: 0.9112\n",
            "Epoch 30/1000\n",
            "30/31 [============================>.] - ETA: 0s - loss: 0.7469 - accuracy: 0.6945\n",
            "Epoch 30: saving model to model\\keypoint_classifier.hdf5\n",
            "31/31 [==============================] - 1s 19ms/step - loss: 0.7453 - accuracy: 0.6962 - val_loss: 0.4366 - val_accuracy: 0.9089\n",
            "Epoch 31/1000\n",
            "29/31 [===========================>..] - ETA: 0s - loss: 0.7277 - accuracy: 0.7077\n",
            "Epoch 31: saving model to model\\keypoint_classifier.hdf5\n",
            "31/31 [==============================] - 0s 15ms/step - loss: 0.7268 - accuracy: 0.7066 - val_loss: 0.4330 - val_accuracy: 0.9119\n",
            "Epoch 32/1000\n",
            "27/31 [=========================>....] - ETA: 0s - loss: 0.7315 - accuracy: 0.6918\n",
            "Epoch 32: saving model to model\\keypoint_classifier.hdf5\n",
            "31/31 [==============================] - 0s 15ms/step - loss: 0.7317 - accuracy: 0.6937 - val_loss: 0.4272 - val_accuracy: 0.9096\n",
            "Epoch 33/1000\n",
            "30/31 [============================>.] - ETA: 0s - loss: 0.7361 - accuracy: 0.7031\n",
            "Epoch 33: saving model to model\\keypoint_classifier.hdf5\n",
            "31/31 [==============================] - 1s 19ms/step - loss: 0.7385 - accuracy: 0.7030 - val_loss: 0.4215 - val_accuracy: 0.9142\n",
            "Epoch 34/1000\n",
            "27/31 [=========================>....] - ETA: 0s - loss: 0.7259 - accuracy: 0.7098\n",
            "Epoch 34: saving model to model\\keypoint_classifier.hdf5\n",
            "31/31 [==============================] - 0s 16ms/step - loss: 0.7290 - accuracy: 0.7106 - val_loss: 0.4129 - val_accuracy: 0.9226\n",
            "Epoch 35/1000\n",
            "26/31 [========================>.....] - ETA: 0s - loss: 0.7456 - accuracy: 0.7007\n",
            "Epoch 35: saving model to model\\keypoint_classifier.hdf5\n",
            "31/31 [==============================] - 0s 13ms/step - loss: 0.7416 - accuracy: 0.7023 - val_loss: 0.4115 - val_accuracy: 0.9256\n",
            "Epoch 36/1000\n",
            "31/31 [==============================] - ETA: 0s - loss: 0.7322 - accuracy: 0.7061\n",
            "Epoch 36: saving model to model\\keypoint_classifier.hdf5\n",
            "31/31 [==============================] - 0s 14ms/step - loss: 0.7322 - accuracy: 0.7061 - val_loss: 0.4110 - val_accuracy: 0.9165\n",
            "Epoch 37/1000\n",
            "27/31 [=========================>....] - ETA: 0s - loss: 0.7029 - accuracy: 0.7283\n",
            "Epoch 37: saving model to model\\keypoint_classifier.hdf5\n",
            "31/31 [==============================] - 0s 13ms/step - loss: 0.7025 - accuracy: 0.7294 - val_loss: 0.3984 - val_accuracy: 0.9165\n",
            "Epoch 38/1000\n",
            "25/31 [=======================>......] - ETA: 0s - loss: 0.7208 - accuracy: 0.7097\n",
            "Epoch 38: saving model to model\\keypoint_classifier.hdf5\n",
            "31/31 [==============================] - 0s 13ms/step - loss: 0.7219 - accuracy: 0.7094 - val_loss: 0.3925 - val_accuracy: 0.9233\n",
            "Epoch 39/1000\n",
            "25/31 [=======================>......] - ETA: 0s - loss: 0.7116 - accuracy: 0.7178\n",
            "Epoch 39: saving model to model\\keypoint_classifier.hdf5\n",
            "31/31 [==============================] - 0s 14ms/step - loss: 0.7095 - accuracy: 0.7190 - val_loss: 0.3888 - val_accuracy: 0.9248\n",
            "Epoch 40/1000\n",
            "28/31 [==========================>...] - ETA: 0s - loss: 0.7032 - accuracy: 0.7182\n",
            "Epoch 40: saving model to model\\keypoint_classifier.hdf5\n",
            "31/31 [==============================] - 0s 15ms/step - loss: 0.7008 - accuracy: 0.7192 - val_loss: 0.3839 - val_accuracy: 0.9233\n",
            "Epoch 41/1000\n",
            "24/31 [======================>.......] - ETA: 0s - loss: 0.7178 - accuracy: 0.7171\n",
            "Epoch 41: saving model to model\\keypoint_classifier.hdf5\n",
            "31/31 [==============================] - 0s 11ms/step - loss: 0.7238 - accuracy: 0.7170 - val_loss: 0.3796 - val_accuracy: 0.9279\n",
            "Epoch 42/1000\n",
            "31/31 [==============================] - ETA: 0s - loss: 0.7016 - accuracy: 0.7230\n",
            "Epoch 42: saving model to model\\keypoint_classifier.hdf5\n",
            "31/31 [==============================] - 0s 12ms/step - loss: 0.7016 - accuracy: 0.7230 - val_loss: 0.3744 - val_accuracy: 0.9203\n",
            "Epoch 43/1000\n",
            "25/31 [=======================>......] - ETA: 0s - loss: 0.6975 - accuracy: 0.7253\n",
            "Epoch 43: saving model to model\\keypoint_classifier.hdf5\n",
            "31/31 [==============================] - 0s 15ms/step - loss: 0.6953 - accuracy: 0.7251 - val_loss: 0.3689 - val_accuracy: 0.9263\n",
            "Epoch 44/1000\n",
            "24/31 [======================>.......] - ETA: 0s - loss: 0.7085 - accuracy: 0.7184\n",
            "Epoch 44: saving model to model\\keypoint_classifier.hdf5\n",
            "31/31 [==============================] - 0s 13ms/step - loss: 0.7098 - accuracy: 0.7157 - val_loss: 0.3743 - val_accuracy: 0.9233\n",
            "Epoch 45/1000\n",
            "25/31 [=======================>......] - ETA: 0s - loss: 0.6897 - accuracy: 0.7194\n",
            "Epoch 45: saving model to model\\keypoint_classifier.hdf5\n",
            "31/31 [==============================] - 0s 14ms/step - loss: 0.6857 - accuracy: 0.7256 - val_loss: 0.3670 - val_accuracy: 0.9263\n",
            "Epoch 46/1000\n",
            "29/31 [===========================>..] - ETA: 0s - loss: 0.6622 - accuracy: 0.7400\n",
            "Epoch 46: saving model to model\\keypoint_classifier.hdf5\n",
            "31/31 [==============================] - 0s 16ms/step - loss: 0.6625 - accuracy: 0.7425 - val_loss: 0.3574 - val_accuracy: 0.9271\n",
            "Epoch 47/1000\n",
            "25/31 [=======================>......] - ETA: 0s - loss: 0.6846 - accuracy: 0.7259\n",
            "Epoch 47: saving model to model\\keypoint_classifier.hdf5\n",
            "31/31 [==============================] - 0s 14ms/step - loss: 0.6840 - accuracy: 0.7258 - val_loss: 0.3582 - val_accuracy: 0.9294\n",
            "Epoch 48/1000\n",
            "31/31 [==============================] - ETA: 0s - loss: 0.6632 - accuracy: 0.7428\n",
            "Epoch 48: saving model to model\\keypoint_classifier.hdf5\n",
            "31/31 [==============================] - 1s 17ms/step - loss: 0.6632 - accuracy: 0.7428 - val_loss: 0.3484 - val_accuracy: 0.9309\n",
            "Epoch 49/1000\n",
            "28/31 [==========================>...] - ETA: 0s - loss: 0.6538 - accuracy: 0.7444\n",
            "Epoch 49: saving model to model\\keypoint_classifier.hdf5\n",
            "31/31 [==============================] - 0s 16ms/step - loss: 0.6575 - accuracy: 0.7400 - val_loss: 0.3476 - val_accuracy: 0.9301\n",
            "Epoch 50/1000\n",
            "31/31 [==============================] - ETA: 0s - loss: 0.7013 - accuracy: 0.7228\n",
            "Epoch 50: saving model to model\\keypoint_classifier.hdf5\n",
            "31/31 [==============================] - 0s 13ms/step - loss: 0.7013 - accuracy: 0.7228 - val_loss: 0.3493 - val_accuracy: 0.9317\n",
            "Epoch 51/1000\n",
            "24/31 [======================>.......] - ETA: 0s - loss: 0.6690 - accuracy: 0.7380\n",
            "Epoch 51: saving model to model\\keypoint_classifier.hdf5\n",
            "31/31 [==============================] - 0s 11ms/step - loss: 0.6708 - accuracy: 0.7370 - val_loss: 0.3451 - val_accuracy: 0.9332\n",
            "Epoch 52/1000\n",
            "27/31 [=========================>....] - ETA: 0s - loss: 0.6436 - accuracy: 0.7442\n",
            "Epoch 52: saving model to model\\keypoint_classifier.hdf5\n",
            "31/31 [==============================] - 0s 16ms/step - loss: 0.6457 - accuracy: 0.7466 - val_loss: 0.3347 - val_accuracy: 0.9324\n",
            "Epoch 53/1000\n",
            "26/31 [========================>.....] - ETA: 0s - loss: 0.6670 - accuracy: 0.7404\n",
            "Epoch 53: saving model to model\\keypoint_classifier.hdf5\n",
            "31/31 [==============================] - 0s 14ms/step - loss: 0.6651 - accuracy: 0.7403 - val_loss: 0.3333 - val_accuracy: 0.9324\n",
            "Epoch 54/1000\n",
            "28/31 [==========================>...] - ETA: 0s - loss: 0.6600 - accuracy: 0.7425\n",
            "Epoch 54: saving model to model\\keypoint_classifier.hdf5\n",
            "31/31 [==============================] - 0s 13ms/step - loss: 0.6568 - accuracy: 0.7443 - val_loss: 0.3404 - val_accuracy: 0.9286\n",
            "Epoch 55/1000\n",
            "26/31 [========================>.....] - ETA: 0s - loss: 0.6488 - accuracy: 0.7434\n",
            "Epoch 55: saving model to model\\keypoint_classifier.hdf5\n",
            "31/31 [==============================] - 0s 12ms/step - loss: 0.6557 - accuracy: 0.7408 - val_loss: 0.3328 - val_accuracy: 0.9339\n",
            "Epoch 56/1000\n",
            "31/31 [==============================] - ETA: 0s - loss: 0.6611 - accuracy: 0.7357\n",
            "Epoch 56: saving model to model\\keypoint_classifier.hdf5\n",
            "31/31 [==============================] - 0s 14ms/step - loss: 0.6611 - accuracy: 0.7357 - val_loss: 0.3300 - val_accuracy: 0.9324\n",
            "Epoch 57/1000\n",
            "27/31 [=========================>....] - ETA: 0s - loss: 0.6667 - accuracy: 0.7361\n",
            "Epoch 57: saving model to model\\keypoint_classifier.hdf5\n",
            "31/31 [==============================] - 0s 11ms/step - loss: 0.6639 - accuracy: 0.7385 - val_loss: 0.3268 - val_accuracy: 0.9347\n",
            "Epoch 58/1000\n",
            "27/31 [=========================>....] - ETA: 0s - loss: 0.6409 - accuracy: 0.7431\n",
            "Epoch 58: saving model to model\\keypoint_classifier.hdf5\n",
            "31/31 [==============================] - 0s 12ms/step - loss: 0.6386 - accuracy: 0.7443 - val_loss: 0.3235 - val_accuracy: 0.9301\n",
            "Epoch 59/1000\n",
            "22/31 [====================>.........] - ETA: 0s - loss: 0.6594 - accuracy: 0.7457\n",
            "Epoch 59: saving model to model\\keypoint_classifier.hdf5\n",
            "31/31 [==============================] - 0s 12ms/step - loss: 0.6609 - accuracy: 0.7415 - val_loss: 0.3198 - val_accuracy: 0.9370\n",
            "Epoch 60/1000\n",
            "30/31 [============================>.] - ETA: 0s - loss: 0.6354 - accuracy: 0.7477\n",
            "Epoch 60: saving model to model\\keypoint_classifier.hdf5\n",
            "31/31 [==============================] - 0s 16ms/step - loss: 0.6353 - accuracy: 0.7476 - val_loss: 0.3248 - val_accuracy: 0.9317\n",
            "Epoch 61/1000\n",
            "29/31 [===========================>..] - ETA: 0s - loss: 0.6354 - accuracy: 0.7516\n",
            "Epoch 61: saving model to model\\keypoint_classifier.hdf5\n",
            "31/31 [==============================] - 0s 15ms/step - loss: 0.6340 - accuracy: 0.7524 - val_loss: 0.3136 - val_accuracy: 0.9339\n",
            "Epoch 62/1000\n",
            "27/31 [=========================>....] - ETA: 0s - loss: 0.6253 - accuracy: 0.7616\n",
            "Epoch 62: saving model to model\\keypoint_classifier.hdf5\n",
            "31/31 [==============================] - 0s 15ms/step - loss: 0.6269 - accuracy: 0.7618 - val_loss: 0.3141 - val_accuracy: 0.9339\n",
            "Epoch 63/1000\n",
            "27/31 [=========================>....] - ETA: 0s - loss: 0.6473 - accuracy: 0.7454\n",
            "Epoch 63: saving model to model\\keypoint_classifier.hdf5\n",
            "31/31 [==============================] - 0s 16ms/step - loss: 0.6454 - accuracy: 0.7471 - val_loss: 0.3117 - val_accuracy: 0.9393\n",
            "Epoch 64/1000\n",
            "25/31 [=======================>......] - ETA: 0s - loss: 0.6231 - accuracy: 0.7556\n",
            "Epoch 64: saving model to model\\keypoint_classifier.hdf5\n",
            "31/31 [==============================] - 0s 14ms/step - loss: 0.6197 - accuracy: 0.7587 - val_loss: 0.3130 - val_accuracy: 0.9362\n",
            "Epoch 65/1000\n",
            "31/31 [==============================] - ETA: 0s - loss: 0.6329 - accuracy: 0.7468\n",
            "Epoch 65: saving model to model\\keypoint_classifier.hdf5\n",
            "31/31 [==============================] - 1s 18ms/step - loss: 0.6329 - accuracy: 0.7468 - val_loss: 0.3088 - val_accuracy: 0.9317\n",
            "Epoch 66/1000\n",
            "26/31 [========================>.....] - ETA: 0s - loss: 0.6275 - accuracy: 0.7551\n",
            "Epoch 66: saving model to model\\keypoint_classifier.hdf5\n",
            "31/31 [==============================] - 1s 18ms/step - loss: 0.6341 - accuracy: 0.7527 - val_loss: 0.3050 - val_accuracy: 0.9385\n",
            "Epoch 67/1000\n",
            "26/31 [========================>.....] - ETA: 0s - loss: 0.6150 - accuracy: 0.7632\n",
            "Epoch 67: saving model to model\\keypoint_classifier.hdf5\n",
            "31/31 [==============================] - 0s 14ms/step - loss: 0.6187 - accuracy: 0.7582 - val_loss: 0.3051 - val_accuracy: 0.9355\n",
            "Epoch 68/1000\n",
            "29/31 [===========================>..] - ETA: 0s - loss: 0.6128 - accuracy: 0.7643\n",
            "Epoch 68: saving model to model\\keypoint_classifier.hdf5\n",
            "31/31 [==============================] - 0s 11ms/step - loss: 0.6097 - accuracy: 0.7676 - val_loss: 0.2993 - val_accuracy: 0.9377\n",
            "Epoch 69/1000\n",
            "23/31 [=====================>........] - ETA: 0s - loss: 0.6192 - accuracy: 0.7687\n",
            "Epoch 69: saving model to model\\keypoint_classifier.hdf5\n",
            "31/31 [==============================] - 0s 10ms/step - loss: 0.6320 - accuracy: 0.7610 - val_loss: 0.3034 - val_accuracy: 0.9385\n",
            "Epoch 70/1000\n",
            "25/31 [=======================>......] - ETA: 0s - loss: 0.6262 - accuracy: 0.7572\n",
            "Epoch 70: saving model to model\\keypoint_classifier.hdf5\n",
            "31/31 [==============================] - 0s 12ms/step - loss: 0.6211 - accuracy: 0.7587 - val_loss: 0.3021 - val_accuracy: 0.9431\n",
            "Epoch 71/1000\n",
            "21/31 [===================>..........] - ETA: 0s - loss: 0.6327 - accuracy: 0.7515\n",
            "Epoch 71: saving model to model\\keypoint_classifier.hdf5\n",
            "31/31 [==============================] - 0s 9ms/step - loss: 0.6363 - accuracy: 0.7549 - val_loss: 0.2994 - val_accuracy: 0.9423\n",
            "Epoch 72/1000\n",
            "30/31 [============================>.] - ETA: 0s - loss: 0.6048 - accuracy: 0.7695\n",
            "Epoch 72: saving model to model\\keypoint_classifier.hdf5\n",
            "31/31 [==============================] - 0s 13ms/step - loss: 0.6028 - accuracy: 0.7701 - val_loss: 0.2912 - val_accuracy: 0.9431\n",
            "Epoch 73/1000\n",
            "29/31 [===========================>..] - ETA: 0s - loss: 0.6097 - accuracy: 0.7621\n",
            "Epoch 73: saving model to model\\keypoint_classifier.hdf5\n",
            "31/31 [==============================] - 0s 16ms/step - loss: 0.6083 - accuracy: 0.7635 - val_loss: 0.2929 - val_accuracy: 0.9446\n",
            "Epoch 74/1000\n",
            "26/31 [========================>.....] - ETA: 0s - loss: 0.6130 - accuracy: 0.7686\n",
            "Epoch 74: saving model to model\\keypoint_classifier.hdf5\n",
            "31/31 [==============================] - 0s 14ms/step - loss: 0.6045 - accuracy: 0.7722 - val_loss: 0.2926 - val_accuracy: 0.9393\n",
            "Epoch 75/1000\n",
            "28/31 [==========================>...] - ETA: 0s - loss: 0.6212 - accuracy: 0.7592\n",
            "Epoch 75: saving model to model\\keypoint_classifier.hdf5\n",
            "31/31 [==============================] - 0s 12ms/step - loss: 0.6237 - accuracy: 0.7587 - val_loss: 0.2862 - val_accuracy: 0.9400\n",
            "Epoch 76/1000\n",
            "27/31 [=========================>....] - ETA: 0s - loss: 0.6059 - accuracy: 0.7633\n",
            "Epoch 76: saving model to model\\keypoint_classifier.hdf5\n",
            "31/31 [==============================] - 0s 12ms/step - loss: 0.6093 - accuracy: 0.7623 - val_loss: 0.2882 - val_accuracy: 0.9438\n",
            "Epoch 77/1000\n",
            "28/31 [==========================>...] - ETA: 0s - loss: 0.6127 - accuracy: 0.7634\n",
            "Epoch 77: saving model to model\\keypoint_classifier.hdf5\n",
            "31/31 [==============================] - 0s 13ms/step - loss: 0.6143 - accuracy: 0.7635 - val_loss: 0.2944 - val_accuracy: 0.9453\n",
            "Epoch 78/1000\n",
            "29/31 [===========================>..] - ETA: 0s - loss: 0.5954 - accuracy: 0.7786\n",
            "Epoch 78: saving model to model\\keypoint_classifier.hdf5\n",
            "31/31 [==============================] - 0s 13ms/step - loss: 0.5954 - accuracy: 0.7775 - val_loss: 0.2864 - val_accuracy: 0.9453\n",
            "Epoch 79/1000\n",
            "30/31 [============================>.] - ETA: 0s - loss: 0.6277 - accuracy: 0.7589\n",
            "Epoch 79: saving model to model\\keypoint_classifier.hdf5\n",
            "31/31 [==============================] - 0s 11ms/step - loss: 0.6261 - accuracy: 0.7592 - val_loss: 0.2921 - val_accuracy: 0.9438\n",
            "Epoch 80/1000\n",
            "29/31 [===========================>..] - ETA: 0s - loss: 0.6077 - accuracy: 0.7678\n",
            "Epoch 80: saving model to model\\keypoint_classifier.hdf5\n",
            "31/31 [==============================] - 0s 12ms/step - loss: 0.6049 - accuracy: 0.7686 - val_loss: 0.2887 - val_accuracy: 0.9393\n",
            "Epoch 81/1000\n",
            "31/31 [==============================] - ETA: 0s - loss: 0.6122 - accuracy: 0.7722\n",
            "Epoch 81: saving model to model\\keypoint_classifier.hdf5\n",
            "31/31 [==============================] - 0s 12ms/step - loss: 0.6122 - accuracy: 0.7722 - val_loss: 0.2870 - val_accuracy: 0.9355\n",
            "Epoch 82/1000\n",
            "24/31 [======================>.......] - ETA: 0s - loss: 0.5949 - accuracy: 0.7738\n",
            "Epoch 82: saving model to model\\keypoint_classifier.hdf5\n",
            "31/31 [==============================] - 0s 12ms/step - loss: 0.5989 - accuracy: 0.7711 - val_loss: 0.2895 - val_accuracy: 0.9362\n",
            "Epoch 83/1000\n",
            "31/31 [==============================] - ETA: 0s - loss: 0.5949 - accuracy: 0.7651\n",
            "Epoch 83: saving model to model\\keypoint_classifier.hdf5\n",
            "31/31 [==============================] - 0s 10ms/step - loss: 0.5949 - accuracy: 0.7651 - val_loss: 0.2869 - val_accuracy: 0.9415\n",
            "Epoch 84/1000\n",
            "24/31 [======================>.......] - ETA: 0s - loss: 0.6027 - accuracy: 0.7744\n",
            "Epoch 84: saving model to model\\keypoint_classifier.hdf5\n",
            "31/31 [==============================] - 0s 9ms/step - loss: 0.6006 - accuracy: 0.7719 - val_loss: 0.2872 - val_accuracy: 0.9408\n",
            "Epoch 85/1000\n",
            "23/31 [=====================>........] - ETA: 0s - loss: 0.6009 - accuracy: 0.7717\n",
            "Epoch 85: saving model to model\\keypoint_classifier.hdf5\n",
            "31/31 [==============================] - 0s 9ms/step - loss: 0.5926 - accuracy: 0.7759 - val_loss: 0.2839 - val_accuracy: 0.9393\n",
            "Epoch 86/1000\n",
            "24/31 [======================>.......] - ETA: 0s - loss: 0.5740 - accuracy: 0.7858\n",
            "Epoch 86: saving model to model\\keypoint_classifier.hdf5\n",
            "31/31 [==============================] - 0s 8ms/step - loss: 0.5755 - accuracy: 0.7841 - val_loss: 0.2774 - val_accuracy: 0.9438\n",
            "Epoch 87/1000\n",
            "22/31 [====================>.........] - ETA: 0s - loss: 0.5935 - accuracy: 0.7720\n",
            "Epoch 87: saving model to model\\keypoint_classifier.hdf5\n",
            "31/31 [==============================] - 0s 9ms/step - loss: 0.5956 - accuracy: 0.7719 - val_loss: 0.2810 - val_accuracy: 0.9415\n",
            "Epoch 88/1000\n",
            "24/31 [======================>.......] - ETA: 0s - loss: 0.5998 - accuracy: 0.7728\n",
            "Epoch 88: saving model to model\\keypoint_classifier.hdf5\n",
            "31/31 [==============================] - 0s 9ms/step - loss: 0.6002 - accuracy: 0.7724 - val_loss: 0.2820 - val_accuracy: 0.9393\n",
            "Epoch 89/1000\n",
            "26/31 [========================>.....] - ETA: 0s - loss: 0.5991 - accuracy: 0.7749\n",
            "Epoch 89: saving model to model\\keypoint_classifier.hdf5\n",
            "31/31 [==============================] - 0s 9ms/step - loss: 0.6005 - accuracy: 0.7729 - val_loss: 0.2822 - val_accuracy: 0.9400\n",
            "Epoch 90/1000\n",
            "30/31 [============================>.] - ETA: 0s - loss: 0.5894 - accuracy: 0.7724\n",
            "Epoch 90: saving model to model\\keypoint_classifier.hdf5\n",
            "31/31 [==============================] - 0s 11ms/step - loss: 0.5913 - accuracy: 0.7709 - val_loss: 0.2776 - val_accuracy: 0.9423\n",
            "Epoch 91/1000\n",
            "23/31 [=====================>........] - ETA: 0s - loss: 0.5997 - accuracy: 0.7714\n",
            "Epoch 91: saving model to model\\keypoint_classifier.hdf5\n",
            "31/31 [==============================] - 0s 9ms/step - loss: 0.5922 - accuracy: 0.7709 - val_loss: 0.2828 - val_accuracy: 0.9438\n",
            "Epoch 92/1000\n",
            "23/31 [=====================>........] - ETA: 0s - loss: 0.5734 - accuracy: 0.7751\n",
            "Epoch 92: saving model to model\\keypoint_classifier.hdf5\n",
            "31/31 [==============================] - 0s 8ms/step - loss: 0.5879 - accuracy: 0.7716 - val_loss: 0.2679 - val_accuracy: 0.9446\n",
            "Epoch 93/1000\n",
            "22/31 [====================>.........] - ETA: 0s - loss: 0.5745 - accuracy: 0.7894\n",
            "Epoch 93: saving model to model\\keypoint_classifier.hdf5\n",
            "31/31 [==============================] - 0s 9ms/step - loss: 0.5808 - accuracy: 0.7856 - val_loss: 0.2775 - val_accuracy: 0.9393\n",
            "Epoch 94/1000\n",
            "30/31 [============================>.] - ETA: 0s - loss: 0.5892 - accuracy: 0.7776\n",
            "Epoch 94: saving model to model\\keypoint_classifier.hdf5\n",
            "31/31 [==============================] - 0s 13ms/step - loss: 0.5896 - accuracy: 0.7759 - val_loss: 0.2713 - val_accuracy: 0.9453\n",
            "Epoch 95/1000\n",
            "30/31 [============================>.] - ETA: 0s - loss: 0.5861 - accuracy: 0.7740\n",
            "Epoch 95: saving model to model\\keypoint_classifier.hdf5\n",
            "31/31 [==============================] - 0s 13ms/step - loss: 0.5862 - accuracy: 0.7734 - val_loss: 0.2645 - val_accuracy: 0.9446\n",
            "Epoch 96/1000\n",
            "28/31 [==========================>...] - ETA: 0s - loss: 0.5986 - accuracy: 0.7796\n",
            "Epoch 96: saving model to model\\keypoint_classifier.hdf5\n",
            "31/31 [==============================] - 0s 10ms/step - loss: 0.5969 - accuracy: 0.7785 - val_loss: 0.2684 - val_accuracy: 0.9461\n",
            "Epoch 97/1000\n",
            "23/31 [=====================>........] - ETA: 0s - loss: 0.5852 - accuracy: 0.7762\n",
            "Epoch 97: saving model to model\\keypoint_classifier.hdf5\n",
            "31/31 [==============================] - 0s 9ms/step - loss: 0.5833 - accuracy: 0.7790 - val_loss: 0.2688 - val_accuracy: 0.9446\n",
            "Epoch 98/1000\n",
            "19/31 [=================>............] - ETA: 0s - loss: 0.5682 - accuracy: 0.7812\n",
            "Epoch 98: saving model to model\\keypoint_classifier.hdf5\n",
            "31/31 [==============================] - 0s 10ms/step - loss: 0.5686 - accuracy: 0.7803 - val_loss: 0.2624 - val_accuracy: 0.9438\n",
            "Epoch 99/1000\n",
            "26/31 [========================>.....] - ETA: 0s - loss: 0.5815 - accuracy: 0.7752\n",
            "Epoch 99: saving model to model\\keypoint_classifier.hdf5\n",
            "31/31 [==============================] - 0s 11ms/step - loss: 0.5851 - accuracy: 0.7729 - val_loss: 0.2594 - val_accuracy: 0.9453\n",
            "Epoch 100/1000\n",
            "21/31 [===================>..........] - ETA: 0s - loss: 0.5840 - accuracy: 0.7842\n",
            "Epoch 100: saving model to model\\keypoint_classifier.hdf5\n",
            "31/31 [==============================] - 0s 11ms/step - loss: 0.5818 - accuracy: 0.7856 - val_loss: 0.2699 - val_accuracy: 0.9400\n",
            "Epoch 101/1000\n",
            "30/31 [============================>.] - ETA: 0s - loss: 0.5716 - accuracy: 0.7854\n",
            "Epoch 101: saving model to model\\keypoint_classifier.hdf5\n",
            "31/31 [==============================] - 0s 10ms/step - loss: 0.5711 - accuracy: 0.7853 - val_loss: 0.2622 - val_accuracy: 0.9415\n",
            "Epoch 102/1000\n",
            "27/31 [=========================>....] - ETA: 0s - loss: 0.5792 - accuracy: 0.7714\n",
            "Epoch 102: saving model to model\\keypoint_classifier.hdf5\n",
            "31/31 [==============================] - 0s 13ms/step - loss: 0.5781 - accuracy: 0.7737 - val_loss: 0.2630 - val_accuracy: 0.9408\n",
            "Epoch 103/1000\n",
            "26/31 [========================>.....] - ETA: 0s - loss: 0.5913 - accuracy: 0.7761\n",
            "Epoch 103: saving model to model\\keypoint_classifier.hdf5\n",
            "31/31 [==============================] - 0s 12ms/step - loss: 0.5901 - accuracy: 0.7785 - val_loss: 0.2665 - val_accuracy: 0.9385\n",
            "Epoch 104/1000\n",
            "28/31 [==========================>...] - ETA: 0s - loss: 0.5861 - accuracy: 0.7776\n",
            "Epoch 104: saving model to model\\keypoint_classifier.hdf5\n",
            "31/31 [==============================] - 0s 12ms/step - loss: 0.5868 - accuracy: 0.7782 - val_loss: 0.2635 - val_accuracy: 0.9453\n",
            "Epoch 105/1000\n",
            "23/31 [=====================>........] - ETA: 0s - loss: 0.5648 - accuracy: 0.7789\n",
            "Epoch 105: saving model to model\\keypoint_classifier.hdf5\n",
            "31/31 [==============================] - 0s 11ms/step - loss: 0.5730 - accuracy: 0.7762 - val_loss: 0.2594 - val_accuracy: 0.9423\n",
            "Epoch 106/1000\n",
            "30/31 [============================>.] - ETA: 0s - loss: 0.5710 - accuracy: 0.7828\n",
            "Epoch 106: saving model to model\\keypoint_classifier.hdf5\n",
            "31/31 [==============================] - 0s 11ms/step - loss: 0.5780 - accuracy: 0.7803 - val_loss: 0.2631 - val_accuracy: 0.9400\n",
            "Epoch 107/1000\n",
            "29/31 [===========================>..] - ETA: 0s - loss: 0.5648 - accuracy: 0.7869\n",
            "Epoch 107: saving model to model\\keypoint_classifier.hdf5\n",
            "31/31 [==============================] - 0s 12ms/step - loss: 0.5622 - accuracy: 0.7871 - val_loss: 0.2611 - val_accuracy: 0.9423\n",
            "Epoch 108/1000\n",
            "23/31 [=====================>........] - ETA: 0s - loss: 0.5579 - accuracy: 0.7826\n",
            "Epoch 108: saving model to model\\keypoint_classifier.hdf5\n",
            "31/31 [==============================] - 0s 12ms/step - loss: 0.5575 - accuracy: 0.7884 - val_loss: 0.2601 - val_accuracy: 0.9423\n",
            "Epoch 109/1000\n",
            "25/31 [=======================>......] - ETA: 0s - loss: 0.5735 - accuracy: 0.7847\n",
            "Epoch 109: saving model to model\\keypoint_classifier.hdf5\n",
            "31/31 [==============================] - 0s 13ms/step - loss: 0.5739 - accuracy: 0.7861 - val_loss: 0.2592 - val_accuracy: 0.9431\n",
            "Epoch 110/1000\n",
            "31/31 [==============================] - ETA: 0s - loss: 0.5742 - accuracy: 0.7909\n",
            "Epoch 110: saving model to model\\keypoint_classifier.hdf5\n",
            "31/31 [==============================] - 1s 18ms/step - loss: 0.5742 - accuracy: 0.7909 - val_loss: 0.2590 - val_accuracy: 0.9415\n",
            "Epoch 111/1000\n",
            "26/31 [========================>.....] - ETA: 0s - loss: 0.5659 - accuracy: 0.7888\n",
            "Epoch 111: saving model to model\\keypoint_classifier.hdf5\n",
            "31/31 [==============================] - 0s 13ms/step - loss: 0.5662 - accuracy: 0.7876 - val_loss: 0.2634 - val_accuracy: 0.9438\n",
            "Epoch 112/1000\n",
            "27/31 [=========================>....] - ETA: 0s - loss: 0.5613 - accuracy: 0.7925\n",
            "Epoch 112: saving model to model\\keypoint_classifier.hdf5\n",
            "31/31 [==============================] - 0s 13ms/step - loss: 0.5657 - accuracy: 0.7894 - val_loss: 0.2534 - val_accuracy: 0.9506\n",
            "Epoch 113/1000\n",
            "27/31 [=========================>....] - ETA: 0s - loss: 0.5499 - accuracy: 0.7946\n",
            "Epoch 113: saving model to model\\keypoint_classifier.hdf5\n",
            "31/31 [==============================] - 0s 12ms/step - loss: 0.5548 - accuracy: 0.7904 - val_loss: 0.2497 - val_accuracy: 0.9484\n",
            "Epoch 114/1000\n",
            "28/31 [==========================>...] - ETA: 0s - loss: 0.5762 - accuracy: 0.7838\n",
            "Epoch 114: saving model to model\\keypoint_classifier.hdf5\n",
            "31/31 [==============================] - 0s 12ms/step - loss: 0.5758 - accuracy: 0.7833 - val_loss: 0.2543 - val_accuracy: 0.9446\n",
            "Epoch 115/1000\n",
            "31/31 [==============================] - ETA: 0s - loss: 0.5627 - accuracy: 0.7954\n",
            "Epoch 115: saving model to model\\keypoint_classifier.hdf5\n",
            "31/31 [==============================] - 0s 13ms/step - loss: 0.5627 - accuracy: 0.7954 - val_loss: 0.2486 - val_accuracy: 0.9522\n",
            "Epoch 116/1000\n",
            "29/31 [===========================>..] - ETA: 0s - loss: 0.5570 - accuracy: 0.7942\n",
            "Epoch 116: saving model to model\\keypoint_classifier.hdf5\n",
            "31/31 [==============================] - 0s 11ms/step - loss: 0.5627 - accuracy: 0.7909 - val_loss: 0.2476 - val_accuracy: 0.9491\n",
            "Epoch 117/1000\n",
            "28/31 [==========================>...] - ETA: 0s - loss: 0.5824 - accuracy: 0.7790\n",
            "Epoch 117: saving model to model\\keypoint_classifier.hdf5\n",
            "31/31 [==============================] - 0s 12ms/step - loss: 0.5915 - accuracy: 0.7747 - val_loss: 0.2674 - val_accuracy: 0.9415\n",
            "Epoch 118/1000\n",
            "26/31 [========================>.....] - ETA: 0s - loss: 0.5714 - accuracy: 0.7812\n",
            "Epoch 118: saving model to model\\keypoint_classifier.hdf5\n",
            "31/31 [==============================] - 0s 11ms/step - loss: 0.5629 - accuracy: 0.7873 - val_loss: 0.2557 - val_accuracy: 0.9468\n",
            "Epoch 119/1000\n",
            "23/31 [=====================>........] - ETA: 0s - loss: 0.5559 - accuracy: 0.7928\n",
            "Epoch 119: saving model to model\\keypoint_classifier.hdf5\n",
            "31/31 [==============================] - 0s 9ms/step - loss: 0.5598 - accuracy: 0.7899 - val_loss: 0.2498 - val_accuracy: 0.9522\n",
            "Epoch 120/1000\n",
            "21/31 [===================>..........] - ETA: 0s - loss: 0.5484 - accuracy: 0.8051\n",
            "Epoch 120: saving model to model\\keypoint_classifier.hdf5\n",
            "31/31 [==============================] - 0s 10ms/step - loss: 0.5525 - accuracy: 0.7980 - val_loss: 0.2526 - val_accuracy: 0.9529\n",
            "Epoch 121/1000\n",
            "21/31 [===================>..........] - ETA: 0s - loss: 0.5531 - accuracy: 0.7991\n",
            "Epoch 121: saving model to model\\keypoint_classifier.hdf5\n",
            "31/31 [==============================] - 0s 11ms/step - loss: 0.5685 - accuracy: 0.7871 - val_loss: 0.2442 - val_accuracy: 0.9544\n",
            "Epoch 122/1000\n",
            "31/31 [==============================] - ETA: 0s - loss: 0.5628 - accuracy: 0.7800\n",
            "Epoch 122: saving model to model\\keypoint_classifier.hdf5\n",
            "31/31 [==============================] - 0s 16ms/step - loss: 0.5628 - accuracy: 0.7800 - val_loss: 0.2542 - val_accuracy: 0.9446\n",
            "Epoch 123/1000\n",
            "23/31 [=====================>........] - ETA: 0s - loss: 0.5473 - accuracy: 0.7833\n",
            "Epoch 123: saving model to model\\keypoint_classifier.hdf5\n",
            "31/31 [==============================] - 0s 11ms/step - loss: 0.5473 - accuracy: 0.7858 - val_loss: 0.2479 - val_accuracy: 0.9491\n",
            "Epoch 124/1000\n",
            "28/31 [==========================>...] - ETA: 0s - loss: 0.5410 - accuracy: 0.7938\n",
            "Epoch 124: saving model to model\\keypoint_classifier.hdf5\n",
            "31/31 [==============================] - 0s 11ms/step - loss: 0.5479 - accuracy: 0.7919 - val_loss: 0.2568 - val_accuracy: 0.9476\n",
            "Epoch 125/1000\n",
            "30/31 [============================>.] - ETA: 0s - loss: 0.5529 - accuracy: 0.7992\n",
            "Epoch 125: saving model to model\\keypoint_classifier.hdf5\n",
            "31/31 [==============================] - 0s 11ms/step - loss: 0.5514 - accuracy: 0.8003 - val_loss: 0.2550 - val_accuracy: 0.9506\n",
            "Epoch 126/1000\n",
            "25/31 [=======================>......] - ETA: 0s - loss: 0.5565 - accuracy: 0.7884\n",
            "Epoch 126: saving model to model\\keypoint_classifier.hdf5\n",
            "31/31 [==============================] - 0s 13ms/step - loss: 0.5589 - accuracy: 0.7856 - val_loss: 0.2539 - val_accuracy: 0.9461\n",
            "Epoch 127/1000\n",
            "30/31 [============================>.] - ETA: 0s - loss: 0.5633 - accuracy: 0.7781\n",
            "Epoch 127: saving model to model\\keypoint_classifier.hdf5\n",
            "31/31 [==============================] - 0s 10ms/step - loss: 0.5620 - accuracy: 0.7777 - val_loss: 0.2586 - val_accuracy: 0.9453\n",
            "Epoch 128/1000\n",
            "24/31 [======================>.......] - ETA: 0s - loss: 0.5702 - accuracy: 0.7894\n",
            "Epoch 128: saving model to model\\keypoint_classifier.hdf5\n",
            "31/31 [==============================] - 0s 10ms/step - loss: 0.5736 - accuracy: 0.7841 - val_loss: 0.2522 - val_accuracy: 0.9506\n",
            "Epoch 129/1000\n",
            "29/31 [===========================>..] - ETA: 0s - loss: 0.5536 - accuracy: 0.7912\n",
            "Epoch 129: saving model to model\\keypoint_classifier.hdf5\n",
            "31/31 [==============================] - 0s 11ms/step - loss: 0.5500 - accuracy: 0.7927 - val_loss: 0.2518 - val_accuracy: 0.9522\n",
            "Epoch 130/1000\n",
            "24/31 [======================>.......] - ETA: 0s - loss: 0.5692 - accuracy: 0.7933\n",
            "Epoch 130: saving model to model\\keypoint_classifier.hdf5\n",
            "31/31 [==============================] - 0s 8ms/step - loss: 0.5694 - accuracy: 0.7899 - val_loss: 0.2501 - val_accuracy: 0.9529\n",
            "Epoch 131/1000\n",
            "25/31 [=======================>......] - ETA: 0s - loss: 0.5773 - accuracy: 0.7772\n",
            "Epoch 131: saving model to model\\keypoint_classifier.hdf5\n",
            "31/31 [==============================] - 0s 8ms/step - loss: 0.5690 - accuracy: 0.7835 - val_loss: 0.2590 - val_accuracy: 0.9468\n",
            "Epoch 132/1000\n",
            "27/31 [=========================>....] - ETA: 0s - loss: 0.5582 - accuracy: 0.7925\n",
            "Epoch 132: saving model to model\\keypoint_classifier.hdf5\n",
            "31/31 [==============================] - 0s 9ms/step - loss: 0.5518 - accuracy: 0.7959 - val_loss: 0.2544 - val_accuracy: 0.9461\n",
            "Epoch 133/1000\n",
            "23/31 [=====================>........] - ETA: 0s - loss: 0.5664 - accuracy: 0.7887\n",
            "Epoch 133: saving model to model\\keypoint_classifier.hdf5\n",
            "31/31 [==============================] - 0s 9ms/step - loss: 0.5665 - accuracy: 0.7878 - val_loss: 0.2492 - val_accuracy: 0.9446\n",
            "Epoch 134/1000\n",
            "24/31 [======================>.......] - ETA: 0s - loss: 0.5559 - accuracy: 0.7926\n",
            "Epoch 134: saving model to model\\keypoint_classifier.hdf5\n",
            "31/31 [==============================] - 0s 8ms/step - loss: 0.5541 - accuracy: 0.7952 - val_loss: 0.2539 - val_accuracy: 0.9461\n",
            "Epoch 135/1000\n",
            "23/31 [=====================>........] - ETA: 0s - loss: 0.5416 - accuracy: 0.7989\n",
            "Epoch 135: saving model to model\\keypoint_classifier.hdf5\n",
            "31/31 [==============================] - 0s 9ms/step - loss: 0.5409 - accuracy: 0.7990 - val_loss: 0.2485 - val_accuracy: 0.9484\n",
            "Epoch 136/1000\n",
            "21/31 [===================>..........] - ETA: 0s - loss: 0.5486 - accuracy: 0.7976\n",
            "Epoch 136: saving model to model\\keypoint_classifier.hdf5\n",
            "31/31 [==============================] - 0s 10ms/step - loss: 0.5449 - accuracy: 0.8030 - val_loss: 0.2353 - val_accuracy: 0.9484\n",
            "Epoch 137/1000\n",
            "28/31 [==========================>...] - ETA: 0s - loss: 0.5338 - accuracy: 0.8064\n",
            "Epoch 137: saving model to model\\keypoint_classifier.hdf5\n",
            "31/31 [==============================] - 0s 12ms/step - loss: 0.5422 - accuracy: 0.8003 - val_loss: 0.2426 - val_accuracy: 0.9484\n",
            "Epoch 138/1000\n",
            "29/31 [===========================>..] - ETA: 0s - loss: 0.5249 - accuracy: 0.8055\n",
            "Epoch 138: saving model to model\\keypoint_classifier.hdf5\n",
            "31/31 [==============================] - 0s 10ms/step - loss: 0.5248 - accuracy: 0.8051 - val_loss: 0.2456 - val_accuracy: 0.9476\n",
            "Epoch 139/1000\n",
            "25/31 [=======================>......] - ETA: 0s - loss: 0.5300 - accuracy: 0.8022\n",
            "Epoch 139: saving model to model\\keypoint_classifier.hdf5\n",
            "31/31 [==============================] - 0s 9ms/step - loss: 0.5332 - accuracy: 0.7990 - val_loss: 0.2409 - val_accuracy: 0.9506\n",
            "Epoch 140/1000\n",
            "23/31 [=====================>........] - ETA: 0s - loss: 0.5564 - accuracy: 0.7942\n",
            "Epoch 140: saving model to model\\keypoint_classifier.hdf5\n",
            "31/31 [==============================] - 0s 10ms/step - loss: 0.5570 - accuracy: 0.7932 - val_loss: 0.2459 - val_accuracy: 0.9506\n",
            "Epoch 141/1000\n",
            "31/31 [==============================] - ETA: 0s - loss: 0.5394 - accuracy: 0.7959\n",
            "Epoch 141: saving model to model\\keypoint_classifier.hdf5\n",
            "31/31 [==============================] - 0s 11ms/step - loss: 0.5394 - accuracy: 0.7959 - val_loss: 0.2472 - val_accuracy: 0.9461\n",
            "Epoch 142/1000\n",
            "27/31 [=========================>....] - ETA: 0s - loss: 0.5480 - accuracy: 0.7859\n",
            "Epoch 142: saving model to model\\keypoint_classifier.hdf5\n",
            "31/31 [==============================] - 0s 12ms/step - loss: 0.5473 - accuracy: 0.7871 - val_loss: 0.2366 - val_accuracy: 0.9484\n",
            "Epoch 143/1000\n",
            "31/31 [==============================] - ETA: 0s - loss: 0.5544 - accuracy: 0.7866\n",
            "Epoch 143: saving model to model\\keypoint_classifier.hdf5\n",
            "31/31 [==============================] - 0s 10ms/step - loss: 0.5544 - accuracy: 0.7866 - val_loss: 0.2469 - val_accuracy: 0.9491\n",
            "Epoch 144/1000\n",
            "26/31 [========================>.....] - ETA: 0s - loss: 0.5468 - accuracy: 0.7909\n",
            "Epoch 144: saving model to model\\keypoint_classifier.hdf5\n",
            "31/31 [==============================] - 0s 9ms/step - loss: 0.5558 - accuracy: 0.7881 - val_loss: 0.2397 - val_accuracy: 0.9484\n",
            "Epoch 145/1000\n",
            "24/31 [======================>.......] - ETA: 0s - loss: 0.5500 - accuracy: 0.7975\n",
            "Epoch 145: saving model to model\\keypoint_classifier.hdf5\n",
            "31/31 [==============================] - 0s 13ms/step - loss: 0.5438 - accuracy: 0.7962 - val_loss: 0.2413 - val_accuracy: 0.9537\n",
            "Epoch 146/1000\n",
            "29/31 [===========================>..] - ETA: 0s - loss: 0.5401 - accuracy: 0.7939\n",
            "Epoch 146: saving model to model\\keypoint_classifier.hdf5\n",
            "31/31 [==============================] - 1s 19ms/step - loss: 0.5477 - accuracy: 0.7909 - val_loss: 0.2387 - val_accuracy: 0.9514\n",
            "Epoch 147/1000\n",
            "25/31 [=======================>......] - ETA: 0s - loss: 0.5566 - accuracy: 0.7934\n",
            "Epoch 147: saving model to model\\keypoint_classifier.hdf5\n",
            "31/31 [==============================] - 0s 13ms/step - loss: 0.5558 - accuracy: 0.7899 - val_loss: 0.2531 - val_accuracy: 0.9446\n",
            "Epoch 148/1000\n",
            "30/31 [============================>.] - ETA: 0s - loss: 0.5517 - accuracy: 0.7956\n",
            "Epoch 148: saving model to model\\keypoint_classifier.hdf5\n",
            "31/31 [==============================] - 0s 11ms/step - loss: 0.5521 - accuracy: 0.7939 - val_loss: 0.2408 - val_accuracy: 0.9514\n",
            "Epoch 149/1000\n",
            "27/31 [=========================>....] - ETA: 0s - loss: 0.5454 - accuracy: 0.7948\n",
            "Epoch 149: saving model to model\\keypoint_classifier.hdf5\n",
            "31/31 [==============================] - 0s 13ms/step - loss: 0.5450 - accuracy: 0.7937 - val_loss: 0.2430 - val_accuracy: 0.9453\n",
            "Epoch 150/1000\n",
            "29/31 [===========================>..] - ETA: 0s - loss: 0.5163 - accuracy: 0.8155\n",
            "Epoch 150: saving model to model\\keypoint_classifier.hdf5\n",
            "31/31 [==============================] - 0s 10ms/step - loss: 0.5225 - accuracy: 0.8142 - val_loss: 0.2439 - val_accuracy: 0.9476\n",
            "Epoch 151/1000\n",
            "30/31 [============================>.] - ETA: 0s - loss: 0.5470 - accuracy: 0.7979\n",
            "Epoch 151: saving model to model\\keypoint_classifier.hdf5\n",
            "31/31 [==============================] - 0s 11ms/step - loss: 0.5491 - accuracy: 0.7967 - val_loss: 0.2376 - val_accuracy: 0.9522\n",
            "Epoch 152/1000\n",
            "29/31 [===========================>..] - ETA: 0s - loss: 0.5504 - accuracy: 0.7971\n",
            "Epoch 152: saving model to model\\keypoint_classifier.hdf5\n",
            "31/31 [==============================] - 0s 10ms/step - loss: 0.5504 - accuracy: 0.7972 - val_loss: 0.2409 - val_accuracy: 0.9514\n",
            "Epoch 153/1000\n",
            "24/31 [======================>.......] - ETA: 0s - loss: 0.5380 - accuracy: 0.7930\n",
            "Epoch 153: saving model to model\\keypoint_classifier.hdf5\n",
            "31/31 [==============================] - 0s 9ms/step - loss: 0.5389 - accuracy: 0.7901 - val_loss: 0.2392 - val_accuracy: 0.9476\n",
            "Epoch 154/1000\n",
            "24/31 [======================>.......] - ETA: 0s - loss: 0.5540 - accuracy: 0.7897\n",
            "Epoch 154: saving model to model\\keypoint_classifier.hdf5\n",
            "31/31 [==============================] - 0s 9ms/step - loss: 0.5506 - accuracy: 0.7899 - val_loss: 0.2398 - val_accuracy: 0.9453\n",
            "Epoch 155/1000\n",
            "22/31 [====================>.........] - ETA: 0s - loss: 0.5671 - accuracy: 0.7823\n",
            "Epoch 155: saving model to model\\keypoint_classifier.hdf5\n",
            "31/31 [==============================] - 0s 9ms/step - loss: 0.5494 - accuracy: 0.7891 - val_loss: 0.2417 - val_accuracy: 0.9499\n",
            "Epoch 156/1000\n",
            "23/31 [=====================>........] - ETA: 0s - loss: 0.5417 - accuracy: 0.7914\n",
            "Epoch 156: saving model to model\\keypoint_classifier.hdf5\n",
            "31/31 [==============================] - 0s 9ms/step - loss: 0.5412 - accuracy: 0.7916 - val_loss: 0.2379 - val_accuracy: 0.9514\n",
            "Epoch 156: early stopping\n"
          ]
        },
        {
          "data": {
            "text/plain": [
              "<keras.callbacks.History at 0x25324b57c88>"
            ]
          },
          "execution_count": 11,
          "metadata": {},
          "output_type": "execute_result"
        }
      ],
      "source": [
        "model.fit(\n",
        "    X_train,\n",
        "    y_train,\n",
        "    epochs=1000,\n",
        "    batch_size=128,\n",
        "    validation_data=(X_test, y_test),\n",
        "    callbacks=[cp_callback, es_callback]\n",
        ")"
      ]
    },
    {
      "cell_type": "code",
      "execution_count": null,
      "metadata": {
        "colab": {
          "base_uri": "https://localhost:8080/"
        },
        "id": "pxvb2Y299hE3",
        "outputId": "59eb3185-2e37-4b9e-bc9d-ab1b8ac29b7f"
      },
      "outputs": [
        {
          "name": "stdout",
          "output_type": "stream",
          "text": [
            "11/11 [==============================] - 0s 6ms/step - loss: 0.2379 - accuracy: 0.9514\n"
          ]
        }
      ],
      "source": [
        "# Model evaluation\n",
        "val_loss, val_acc = model.evaluate(X_test, y_test, batch_size=128)"
      ]
    },
    {
      "cell_type": "code",
      "execution_count": null,
      "metadata": {
        "id": "RBkmDeUW9hE4"
      },
      "outputs": [],
      "source": [
        "# Loading the saved model\n",
        "model = tf.keras.models.load_model(model_save_path)"
      ]
    },
    {
      "cell_type": "code",
      "execution_count": null,
      "metadata": {
        "colab": {
          "base_uri": "https://localhost:8080/"
        },
        "id": "tFz9Tb0I9hE4",
        "outputId": "1c3b3528-54ae-4ee2-ab04-77429211cbef"
      },
      "outputs": [
        {
          "name": "stdout",
          "output_type": "stream",
          "text": [
            "1/1 [==============================] - 0s 258ms/step\n",
            "[2.5172105e-02 2.2109358e-02 7.7455206e-04 1.8614588e-07 9.5194381e-01]\n",
            "4\n"
          ]
        }
      ],
      "source": [
        "# Inference test\n",
        "predict_result = model.predict(np.array([X_test[0]]))\n",
        "print(np.squeeze(predict_result))\n",
        "print(np.argmax(np.squeeze(predict_result)))"
      ]
    },
    {
      "cell_type": "markdown",
      "metadata": {
        "id": "S3U4yNWx9hE4"
      },
      "source": [
        "# Confusion matrix"
      ]
    },
    {
      "cell_type": "code",
      "execution_count": null,
      "metadata": {
        "colab": {
          "base_uri": "https://localhost:8080/",
          "height": 582
        },
        "id": "AP1V6SCk9hE5",
        "outputId": "08e41a80-7a4a-4619-8125-ecc371368d19"
      },
      "outputs": [
        {
          "name": "stdout",
          "output_type": "stream",
          "text": [
            "42/42 [==============================] - 1s 6ms/step\n"
          ]
        },
        {
          "data": {
            "image/png": "[encoded data removed]",
            "text/plain": [
              "<Figure size 700x600 with 2 Axes>"
            ]
          },
          "metadata": {},
          "output_type": "display_data"
        },
        {
          "name": "stdout",
          "output_type": "stream",
          "text": [
            "Classification Report\n",
            "              precision    recall  f1-score   support\n",
            "\n",
            "           0       0.97      0.94      0.95       411\n",
            "           1       0.97      0.94      0.96       369\n",
            "           2       0.95      0.97      0.96       328\n",
            "           3       0.93      0.97      0.95        87\n",
            "           4       0.86      0.98      0.92       122\n",
            "\n",
            "    accuracy                           0.95      1317\n",
            "   macro avg       0.94      0.96      0.95      1317\n",
            "weighted avg       0.95      0.95      0.95      1317\n",
            "\n"
          ]
        }
      ],
      "source": [
        "import pandas as pd\n",
        "import seaborn as sns\n",
        "import matplotlib.pyplot as plt\n",
        "from sklearn.metrics import confusion_matrix, classification_report\n",
        "\n",
        "def print_confusion_matrix(y_true, y_pred, report=True):\n",
        "    labels = sorted(list(set(y_true)))\n",
        "    cmx_data = confusion_matrix(y_true, y_pred, labels=labels)\n",
        "    \n",
        "    df_cmx = pd.DataFrame(cmx_data, index=labels, columns=labels)\n",
        " \n",
        "    fig, ax = plt.subplots(figsize=(7, 6))\n",
        "    sns.heatmap(df_cmx, annot=True, fmt='g' ,square=False)\n",
        "    ax.set_ylim(len(set(y_true)), 0)\n",
        "    plt.show()\n",
        "    \n",
        "    if report:\n",
        "        print('Classification Report')\n",
        "        print(classification_report(y_test, y_pred))\n",
        "\n",
        "Y_pred = model.predict(X_test)\n",
        "y_pred = np.argmax(Y_pred, axis=1)\n",
        "\n",
        "print_confusion_matrix(y_test, y_pred)"
      ]
    },
    {
      "cell_type": "markdown",
      "metadata": {
        "id": "FNP6aqzc9hE5"
      },
      "source": [
        "# Convert to model for Tensorflow-Lite"
      ]
    },
    {
      "cell_type": "code",
      "execution_count": null,
      "metadata": {
        "id": "ODjnYyld9hE6"
      },
      "outputs": [],
      "source": [
        "# Save as a model dedicated to inference\n",
        "model.save(model_save_path, include_optimizer=False)"
      ]
    },
    {
      "cell_type": "code",
      "execution_count": null,
      "metadata": {
        "colab": {
          "base_uri": "https://localhost:8080/"
        },
        "id": "zRfuK8Y59hE6",
        "outputId": "a4ca585c-b5d5-4244-8291-8674063209bb"
      },
      "outputs": [
        {
          "name": "stderr",
          "output_type": "stream",
          "text": [
            "WARNING:absl:Found untraced functions such as _update_step_xla while saving (showing 1 of 1). These functions will not be directly callable after loading.\n"
          ]
        },
        {
          "name": "stdout",
          "output_type": "stream",
          "text": [
            "INFO:tensorflow:Assets written to: C:\\Users\\julii\\AppData\\Local\\Temp\\tmp1zjdtsro\\assets\n"
          ]
        },
        {
          "name": "stderr",
          "output_type": "stream",
          "text": [
            "INFO:tensorflow:Assets written to: C:\\Users\\julii\\AppData\\Local\\Temp\\tmp1zjdtsro\\assets\n"
          ]
        },
        {
          "data": {
            "text/plain": [
              "6588"
            ]
          },
          "execution_count": 18,
          "metadata": {},
          "output_type": "execute_result"
        }
      ],
      "source": [
        "# Transform model (quantization)\n",
        "\n",
        "converter = tf.lite.TFLiteConverter.from_keras_model(model)\n",
        "converter.optimizations = [tf.lite.Optimize.DEFAULT]\n",
        "tflite_quantized_model = converter.convert()\n",
        "\n",
        "open(tflite_save_path, 'wb').write(tflite_quantized_model)"
      ]
    },
    {
      "cell_type": "markdown",
      "metadata": {
        "id": "CHBPBXdx9hE6"
      },
      "source": [
        "# Inference test"
      ]
    },
    {
      "cell_type": "code",
      "execution_count": null,
      "metadata": {
        "id": "mGAzLocO9hE7"
      },
      "outputs": [],
      "source": [
        "interpreter = tf.lite.Interpreter(model_path=tflite_save_path)\n",
        "interpreter.allocate_tensors()"
      ]
    },
    {
      "cell_type": "code",
      "execution_count": null,
      "metadata": {
        "id": "oQuDK8YS9hE7"
      },
      "outputs": [],
      "source": [
        "# Get I / O tensor\n",
        "input_details = interpreter.get_input_details()\n",
        "output_details = interpreter.get_output_details()"
      ]
    },
    {
      "cell_type": "code",
      "execution_count": null,
      "metadata": {
        "id": "2_ixAf_l9hE7"
      },
      "outputs": [],
      "source": [
        "interpreter.set_tensor(input_details[0]['index'], np.array([X_test[0]]))"
      ]
    },
    {
      "cell_type": "code",
      "execution_count": null,
      "metadata": {
        "colab": {
          "base_uri": "https://localhost:8080/"
        },
        "id": "s4FoAnuc9hE7",
        "outputId": "91f18257-8d8b-4ef3-c558-e9b5f94fabbf",
        "scrolled": true
      },
      "outputs": [
        {
          "name": "stdout",
          "output_type": "stream",
          "text": [
            "Wall time: 6.17 ms\n"
          ]
        }
      ],
      "source": [
        "%%time\n",
        "# Inference implementation\n",
        "interpreter.invoke()\n",
        "tflite_results = interpreter.get_tensor(output_details[0]['index'])"
      ]
    },
    {
      "cell_type": "code",
      "execution_count": null,
      "metadata": {
        "colab": {
          "base_uri": "https://localhost:8080/"
        },
        "id": "vONjp19J9hE8",
        "outputId": "77205e24-fd00-42c4-f7b6-e06e527c2cba"
      },
      "outputs": [
        {
          "name": "stdout",
          "output_type": "stream",
          "text": [
            "[2.5172088e-02 2.2109374e-02 7.7455206e-04 1.8614554e-07 9.5194393e-01]\n",
            "4\n"
          ]
        }
      ],
      "source": [
        "print(np.squeeze(tflite_results))\n",
        "print(np.argmax(np.squeeze(tflite_results)))"
      ]
    }
  ],
  "metadata": {
    "accelerator": "GPU",
    "colab": {
      "collapsed_sections": [],
      "name": "keypoint_classification_EN.ipynb",
      "provenance": [],
      "toc_visible": true
    },
    "kernelspec": {
      "display_name": "Python 3",
      "language": "python",
      "name": "python3"
    },
    "language_info": {
      "codemirror_mode": {
        "name": "ipython",
        "version": 3
      },
      "file_extension": ".py",
      "mimetype": "text/x-python",
      "name": "python",
      "nbconvert_exporter": "python",
      "pygments_lexer": "ipython3",
      "version": "3.7.2"
    }
  },
  "nbformat": 4,
  "nbformat_minor": 0
}
